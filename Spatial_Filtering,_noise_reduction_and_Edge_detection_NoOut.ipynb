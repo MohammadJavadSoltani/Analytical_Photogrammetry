{
  "nbformat": 4,
  "nbformat_minor": 0,
  "metadata": {
    "colab": {
      "provenance": [],
      "authorship_tag": "ABX9TyPlcW8+Bs6kjLp+g7gUwp/F",
      "include_colab_link": true
    },
    "kernelspec": {
      "name": "python3",
      "display_name": "Python 3"
    },
    "language_info": {
      "name": "python"
    }
  },
  "cells": [
    {
      "cell_type": "markdown",
      "metadata": {
        "id": "view-in-github",
        "colab_type": "text"
      },
      "source": [
        "<a href=\"https://colab.research.google.com/github/MohammadJavadSoltani/Analytical_Photogrammetry/blob/main/Spatial_Filtering%2C_noise_reduction_and_Edge_detection_NoOut.ipynb\" target=\"_parent\"><img src=\"https://colab.research.google.com/assets/colab-badge.svg\" alt=\"Open In Colab\"/></a>"
      ]
    },
    {
      "cell_type": "markdown",
      "metadata": {
        "id": "Zk8t3jMfWA9L"
      },
      "source": [
        "![pic.jpg](data:image/jpeg;base64,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)\n",
        "\n",
        "# Spatial Filtering and noise reduction , Also Edge detection\n",
        "mohammad javad soltani ;\n",
        "\n",
        "KNTU;\n"
      ]
    },
    {
      "cell_type": "markdown",
      "source": [
        "[![Open In Colab](https://colab.research.google.com/drive/1HYZl8ZTKCcppPFuABFnn2EvWw13RsNQo?usp=sharing)](https://github.com/MohammadJavadSoltani/Spatial-Filtering_noise-reduction_Edge-detection/blob/main/Spatial_Filtering_and_noise_reduction_%2C_Also_Edge_detection.ipynb)\n"
      ],
      "metadata": {
        "id": "sY8hOutfN1qq"
      }
    },
    {
      "cell_type": "markdown",
      "metadata": {
        "id": "K1mPy1WnW88x"
      },
      "source": [
        "# *Q1; *    \n",
        "   **Apply low-pass filters and remove noise**"
      ]
    },
    {
      "cell_type": "markdown",
      "metadata": {
        "id": "j2VypcxRnaCp"
      },
      "source": [
        "add up all libraes that we need:"
      ]
    },
    {
      "cell_type": "code",
      "metadata": {
        "id": "i_MwLScNXMaw"
      },
      "source": [
        "import cv2\n",
        "import numpy as np\n",
        "import matplotlib.pyplot as plt\n",
        "from skimage.util import random_noise\n",
        "from skimage import filters\n",
        "from skimage.morphology import rectangle\n"
      ],
      "execution_count": null,
      "outputs": []
    },
    {
      "cell_type": "markdown",
      "metadata": {
        "id": "0W8K5_lTnpmI"
      },
      "source": [
        "add the picture:"
      ]
    },
    {
      "cell_type": "code",
      "metadata": {
        "id": "Lu80LcF8MEDi"
      },
      "source": [
        "#from google.colab import files\n",
        "#img1 = files.upload()\n",
        "img1 = cv2.imread('first_image.jfif')\n",
        "print(np.shape(img1))\n"
      ],
      "execution_count": null,
      "outputs": []
    },
    {
      "cell_type": "markdown",
      "metadata": {
        "id": "1HZHYrOASCI7"
      },
      "source": [
        "\n",
        "\n",
        "---\n",
        "\n",
        "add salt and peper noise"
      ]
    },
    {
      "cell_type": "code",
      "metadata": {
        "id": "ChVs73pnGQqr"
      },
      "source": [
        "sp_noise = random_noise(img1,mode='s&p',amount=.15)\n",
        "plt.figure(figsize=(20,20))\n",
        "plt.subplot(1,2,1);plt.imshow(img1[:,:,0],cmap='gray');plt.xlabel('normal pic ( band 0 )')\n",
        "plt.subplot(1,2,2);plt.imshow(sp_noise[:,:,0],cmap='gray');plt.xlabel('salt & peper noise( band 0 )')\n",
        "plt.figure(figsize=(20,20))\n",
        "plt.subplot(1,2,1);plt.imshow(img1[:,:,1],cmap='gray');plt.xlabel('normal pic ( band 1 )')\n",
        "plt.subplot(1,2,2);plt.imshow(sp_noise[:,:,1],cmap='gray');plt.xlabel('salt & peper noise( band 1 )')\n",
        "plt.figure(figsize=(20,20))\n",
        "plt.subplot(1,2,1);plt.imshow(img1[:,:,2],cmap='gray');plt.xlabel('normal pic ( band 2 )')\n",
        "plt.subplot(1,2,2);plt.imshow(sp_noise[:,:,2],cmap='gray');plt.xlabel('salt & peper noise( band 2 )')"
      ],
      "execution_count": null,
      "outputs": []
    },
    {
      "cell_type": "markdown",
      "metadata": {
        "id": "UQxnHaTIZlmT"
      },
      "source": [
        "i gess the band 0 is better for our work."
      ]
    },
    {
      "cell_type": "markdown",
      "metadata": {
        "id": "WGe2v3-YZmHx"
      },
      "source": [
        "\n",
        "\n",
        "---\n",
        "\n",
        "now gussian noise:"
      ]
    },
    {
      "cell_type": "code",
      "metadata": {
        "id": "aBOk5KvWS_Sq"
      },
      "source": [
        "gussian = np.random.normal(.1,.7,img1.size)\n",
        "gussian = gussian.reshape(img1.shape[0], img1.shape[1], img1.shape[2]).astype('uint8')\n",
        "guss_noise = cv2.add(img1, gussian)\n",
        "plt.figure(figsize=(20,20))\n",
        "plt.subplot(1,3,1);plt.imshow(img1[:,:,0],cmap='gray');plt.xlabel('normal pic ( band 0 )')\n",
        "plt.subplot(1,3,2);plt.imshow(sp_noise[:,:,0],cmap='gray');plt.xlabel('salt & peper noise( band 0 )')\n",
        "plt.subplot(1,3,3);plt.imshow(guss_noise[:,:,0],cmap='gray');plt.xlabel('guss_noise pic ( band 0 )')\n",
        "plt.figure(figsize=(20,20))\n",
        "plt.subplot(1,3,1);plt.imshow(img1[:,:,1],cmap='gray');plt.xlabel('normal pic ( band 1 )')\n",
        "plt.subplot(1,3,2);plt.imshow(sp_noise[:,:,1],cmap='gray');plt.xlabel('salt & peper noise( band 1 )')\n",
        "plt.subplot(1,3,3);plt.imshow(guss_noise[:,:,1],cmap='gray');plt.xlabel('guss_noise pic ( band 1 )')\n",
        "plt.figure(figsize=(20,20))\n",
        "plt.subplot(1,3,1);plt.imshow(img1[:,:,2],cmap='gray');plt.xlabel('normal pic ( band 2 )')\n",
        "plt.subplot(1,3,2);plt.imshow(sp_noise[:,:,2],cmap='gray');plt.xlabel('salt & peper noise( band 2 )')\n",
        "plt.subplot(1,3,3);plt.imshow(guss_noise[:,:,2],cmap='gray');plt.xlabel('guss_noise pic ( band 2 )')\n"
      ],
      "execution_count": null,
      "outputs": []
    },
    {
      "cell_type": "markdown",
      "metadata": {
        "id": "88oVpQQXacXa"
      },
      "source": [
        "The difference betwen 'salt and peper' and 'gussian' in band 2 is obvious.\n",
        "\n",
        "---\n",
        "\n"
      ]
    },
    {
      "cell_type": "markdown",
      "metadata": {
        "id": "84QNLQePeywq"
      },
      "source": [
        "🔷now we use filters for salt and peper noise🧂🌶 comparring with gussian"
      ]
    },
    {
      "cell_type": "code",
      "metadata": {
        "id": "lXqTLb4BaPII"
      },
      "source": [
        "mean3 = cv2.blur(sp_noise[:,:,0], ksize=(3,3))\n",
        "med3 = filters.median(sp_noise[:,:,0], selem=rectangle(3,3))\n",
        "guss1 = filters.gaussian(sp_noise[:,:,0],sigma=1)\n",
        "plt.figure(figsize=(30,30))\n",
        "plt.subplot(1,3,1);plt.imshow(mean3,cmap='gray');plt.xlabel('mean fiter(3*3) for salt and peper noise ( band 0 )')\n",
        "plt.subplot(1,3,2);plt.imshow(med3,cmap='gray');plt.xlabel('median filter (3*3) for salt and peper noise ( band 0 )')\n",
        "plt.subplot(1,3,3);plt.imshow(guss1,cmap='gray');plt.xlabel('gussian filter sigma=1 for salt and peper noise ( band 0 )')\n",
        "\n",
        "#now for gussian\n",
        "mean3_G = cv2.blur(guss_noise[:,:,0], ksize=(3,3))\n",
        "med3_G = filters.median(guss_noise[:,:,0], selem=rectangle(3,3))\n",
        "guss1_G = filters.gaussian(guss_noise[:,:,0],sigma=1)\n",
        "plt.figure(figsize=(30,30))\n",
        "plt.subplot(1,3,1);plt.imshow(mean3_G,cmap='gray');plt.xlabel('mean fiter(3*3) for gussian noise ( band 0 )')\n",
        "plt.subplot(1,3,2);plt.imshow(med3_G,cmap='gray');plt.xlabel('median filter (3*3) for gussian noise ( band 0 )')\n",
        "plt.subplot(1,3,3);plt.imshow(guss1_G,cmap='gray');plt.xlabel('gussian filter sigma=1 for gussian noise ( band 0 )')"
      ],
      "execution_count": null,
      "outputs": []
    },
    {
      "cell_type": "markdown",
      "metadata": {
        "id": "dRHYDllThE-q"
      },
      "source": [
        "1.   as we know and by comparing the filtering algorithm,in salt and peper ,\n",
        "\n",
        "    median filter is way better than average and gussian filter.\n",
        "\n",
        "    also the average filter did not give us a good result at all and in Gaussian the bluring is very high and noises can still be detect.\n",
        "\n",
        "\n",
        "2.   about gussian noioze again median filter did a wonderfull jub!\n",
        "\n",
        "    maybe better than elimination salt and peper noize.\n",
        "\n",
        "    yet still average is off the table and gussian is better than previous one ,\n",
        "\n",
        "    but still noizy.\n",
        "\n",
        "\n",
        "\n",
        "---\n",
        "\n"
      ]
    },
    {
      "cell_type": "markdown",
      "metadata": {
        "id": "FzJFJmgkhGST"
      },
      "source": [
        "🔷now for 5*5 filters"
      ]
    },
    {
      "cell_type": "code",
      "metadata": {
        "id": "H4OmiS0ocgsm"
      },
      "source": [
        "mean5 = cv2.blur(sp_noise[:,:,0], ksize=(5,5))\n",
        "med5 = filters.median(sp_noise[:,:,0], selem=rectangle(5,5))\n",
        "guss5 = filters.gaussian(sp_noise[:,:,0],sigma=2)\n",
        "plt.figure(figsize=(30,30))\n",
        "plt.subplot(1,3,1);plt.imshow(mean5,cmap='gray');plt.xlabel('mean fiter(5*5) for salt and peper noise ( band 0 )')\n",
        "plt.subplot(1,3,2);plt.imshow(med5,cmap='gray');plt.xlabel('median filter (5*5) for salt and peper noise ( band 0 )')\n",
        "plt.subplot(1,3,3);plt.imshow(guss5,cmap='gray');plt.xlabel('gussian filter sigma=2 for salt and peper noise ( band 0 )')\n",
        "\n",
        "#now for gussian\n",
        "mean5_G = cv2.blur(guss_noise[:,:,0], ksize=(5,5))\n",
        "med5_G = filters.median(guss_noise[:,:,0], selem=rectangle(5,5))\n",
        "guss5_G = filters.gaussian(guss_noise[:,:,0],sigma=2)\n",
        "plt.figure(figsize=(30,30))\n",
        "plt.subplot(1,3,1);plt.imshow(mean5_G,cmap='gray');plt.xlabel('mean fiter(5*5) for gussian noise ( band 0 )')\n",
        "plt.subplot(1,3,2);plt.imshow(med5_G,cmap='gray');plt.xlabel('median filter (5*5) for gussian noise ( band 0 )')\n",
        "plt.subplot(1,3,3);plt.imshow(guss5_G,cmap='gray');plt.xlabel('gussian filter sigma=2 for gussian noise ( band 0 )')"
      ],
      "execution_count": null,
      "outputs": []
    },
    {
      "cell_type": "markdown",
      "metadata": {
        "id": "-fa78oQghddi"
      },
      "source": [
        "in here we can slightly see bluring.and also in gussian noiz average and gussian are doing better than salt and peper.but of course not enough.\n",
        "\n",
        "i gess in gussian noize and a 5*5 gussian filter we have the best result of gussian filter in gussian noize.\n",
        "\n",
        "---\n",
        "\n"
      ]
    },
    {
      "cell_type": "markdown",
      "metadata": {
        "id": "fl4yqpqYheih"
      },
      "source": [
        "🔷now for 7*7 filters"
      ]
    },
    {
      "cell_type": "code",
      "metadata": {
        "id": "phJxw7GRhbSM"
      },
      "source": [
        "mean7 = cv2.blur(sp_noise[:,:,0], ksize=(7,7))\n",
        "med7 = filters.median(sp_noise[:,:,0], selem=rectangle(7,7))\n",
        "guss7 = filters.gaussian(sp_noise[:,:,0],sigma=3)\n",
        "plt.figure(figsize=(30,30))\n",
        "plt.subplot(1,3,1);plt.imshow(mean7,cmap='gray');plt.xlabel('mean fiter(7*7) for salt and peper noise ( band 0 )')\n",
        "plt.subplot(1,3,2);plt.imshow(med7,cmap='gray');plt.xlabel('median filter (7*7) for salt and peper noise ( band 0 )')\n",
        "plt.subplot(1,3,3);plt.imshow(guss7,cmap='gray');plt.xlabel('gussian filter sigma=3 for salt and peper noise ( band 0 )')\n",
        "\n",
        "#now for gussian\n",
        "mean7_G = cv2.blur(guss_noise[:,:,0], ksize=(7,7))\n",
        "med7_G = filters.median(guss_noise[:,:,0], selem=rectangle(7,7))\n",
        "guss7_G = filters.gaussian(guss_noise[:,:,0],sigma=3)\n",
        "plt.figure(figsize=(30,30))\n",
        "plt.subplot(1,3,1);plt.imshow(mean7_G,cmap='gray');plt.xlabel('mean fiter(7*7) for gussian noise ( band 0 )')\n",
        "plt.subplot(1,3,2);plt.imshow(med7_G,cmap='gray');plt.xlabel('median filter (7*7) for gussian noise ( band 0 )')\n",
        "plt.subplot(1,3,3);plt.imshow(guss7_G,cmap='gray');plt.xlabel('gussian filter sigma=3 for gussian noise ( band 0 )')"
      ],
      "execution_count": null,
      "outputs": []
    },
    {
      "cell_type": "markdown",
      "metadata": {
        "id": "FTL_xOPZ5NgH"
      },
      "source": [
        "\n",
        "in 7*7, bluring is legit more than previous ones and it's increase by dimensions of the filter matrix\n",
        "---\n",
        "\n"
      ]
    },
    {
      "cell_type": "markdown",
      "metadata": {
        "id": "1iNF-2gEiXHZ"
      },
      "source": [
        "♒ In general, regarding the ***increase*** of the ***dimensions*** of the filter matrix,\n",
        "\n",
        "we came to the conclusion that with the increase of these dimensions,\n",
        "\n",
        " the amount of ***bluring*** in the image also\n",
        "\n",
        " and by the way a gess the best reating for filters is\n",
        "\n",
        " 🥇median\n",
        "\n",
        " 🥈gussian\n",
        "\n",
        " 🥉 average"
      ]
    },
    {
      "cell_type": "markdown",
      "metadata": {
        "id": "jPGnMsiYiXl9"
      },
      "source": [
        "\n",
        "\n",
        "\n",
        "-------------\n",
        "now if we wanna do filtering again for part 3 of the Q1 we will have:\n"
      ]
    },
    {
      "cell_type": "code",
      "metadata": {
        "id": "Hsgi_UWc8fMg"
      },
      "source": [
        "mean33 = cv2.blur(mean3, ksize=(3,3))\n",
        "med33 = filters.median(med3, selem=rectangle(3,3))\n",
        "guss11 = filters.gaussian(guss1,sigma=1)\n",
        "plt.figure(figsize=(30,30))\n",
        "plt.subplot(1,3,1);plt.imshow(mean33,cmap='gray');plt.xlabel('2_mean fiter(3*3) for salt and peper noise ( band 0 )')\n",
        "plt.subplot(1,3,2);plt.imshow(med33,cmap='gray');plt.xlabel('2_median filter (3*3) for salt and peper noise ( band 0 )')\n",
        "plt.subplot(1,3,3);plt.imshow(guss11,cmap='gray');plt.xlabel('2_gussian filter sigma=1 for salt and peper noise ( band 0 )')\n",
        "\n",
        "#now for gussian\n",
        "mean33_G = cv2.blur(mean3_G, ksize=(3,3))\n",
        "med33_G = filters.median(med3_G, selem=rectangle(3,3))\n",
        "guss11_G = filters.gaussian(guss1_G,sigma=1)\n",
        "plt.figure(figsize=(30,30))\n",
        "plt.subplot(1,3,1);plt.imshow(mean33_G,cmap='gray');plt.xlabel('2_mean fiter(3*3) for gussian noise ( band 0 )')\n",
        "plt.subplot(1,3,2);plt.imshow(med33_G,cmap='gray');plt.xlabel('2_median filter (3*3) for gussian noise ( band 0 )')\n",
        "plt.subplot(1,3,3);plt.imshow(guss11_G,cmap='gray');plt.xlabel('2_gussian filter sigma=1 for gussian noise ( band 0 )')"
      ],
      "execution_count": null,
      "outputs": []
    },
    {
      "cell_type": "markdown",
      "metadata": {
        "id": "5FLq2-Wb_xTa"
      },
      "source": [
        "for commparing first and secound filtering for example in median:"
      ]
    },
    {
      "cell_type": "code",
      "metadata": {
        "id": "qBM2C6wxAGtL"
      },
      "source": [
        "plt.figure(figsize=(30,30))\n",
        "plt.subplot(1,3,1);plt.imshow(med3,cmap='gray');plt.xlabel('median fiter(3*3) for salt and peper noise ( band 0 )')\n",
        "plt.subplot(1,3,2);plt.imshow(med33,cmap='gray');plt.xlabel('2_median filter (3*3) for salt and peper noise ( band 0 )')\n",
        "plt.subplot(1,3,3);plt.imshow(med5,cmap='gray');plt.xlabel('median filter (5*5) for salt and peper noise ( band 0 )')\n"
      ],
      "execution_count": null,
      "outputs": []
    },
    {
      "cell_type": "markdown",
      "metadata": {
        "id": "vlyw9TIzpmhE"
      },
      "source": [
        "we can see in median 3*3 we still have some noizes, but By re-applying the filter its almost clear 📈\n",
        "---\n",
        "in 5*5 median filter it also removed but we will have a little bluring there🇳\n",
        "---\n",
        "\n",
        "------\n",
        "now check it  for Gussian too:"
      ]
    },
    {
      "cell_type": "code",
      "metadata": {
        "id": "Rm7vhPKN5sft"
      },
      "source": [
        "plt.figure(figsize=(30,30))\n",
        "plt.subplot(1,3,1);plt.imshow(guss1,cmap='gray');plt.xlabel('gussian filter sigma=1 for gussian noise ( band 0 )')\n",
        "plt.subplot(1,3,2);plt.imshow(guss11,cmap='gray');plt.xlabel('2_gussian filter sigma=1 for gussian noise ( band 0 )')\n",
        "plt.subplot(1,3,3);plt.imshow(guss5,cmap='gray');plt.xlabel('gussian filter sigma=2 for gussian noise ( band 0 )')"
      ],
      "execution_count": null,
      "outputs": []
    },
    {
      "cell_type": "markdown",
      "metadata": {
        "id": "KeCBivV75sMu"
      },
      "source": [
        "it's almost the same here!i mean it's some how better in 2_gussian filter than normal gussain and better than gussian with sigma = 2 . but any way gussian filter it not work very well in salt and pepr and gussian noizes.\n",
        "\n",
        "---\n",
        "\n",
        "\n",
        "\n",
        "---\n",
        "\n",
        "\n",
        "\n",
        "---\n",
        "\n"
      ]
    },
    {
      "cell_type": "markdown",
      "metadata": {
        "id": "rFFW98shpnsj"
      },
      "source": [
        "# Q2"
      ]
    },
    {
      "cell_type": "code",
      "metadata": {
        "id": "BlZ5Vk9xhwll"
      },
      "source": [
        "#from google.colab import files\n",
        "#img2 = files.upload()\n",
        "img2 = cv2.imread('Grammichelle.jpg')\n",
        "print(np.shape(img2))\n"
      ],
      "execution_count": null,
      "outputs": []
    },
    {
      "cell_type": "markdown",
      "metadata": {
        "id": "GXuzCPA5po6C"
      },
      "source": [
        "first We define all filters:"
      ]
    },
    {
      "cell_type": "code",
      "metadata": {
        "id": "rBKHsH-toR9c"
      },
      "source": [
        "hsobel_kernel = np.array( [[-1,-2,-1],[0,0,0],[1,2,1]] )\n",
        "vsobel_kernel = np.array([ [-1,0,1],[-2,0,2],[-1,0,1]] )\n",
        "lap1_kernel = np.array( [[0,-1,0],[-1,4,-1],[0,-1,0]] )\n",
        "lap2_kernel = np.array( [[-1,-1,-1],[-1,8,-1],[-1,-1,-1]] )\n",
        "lap3_kernel = np.array( [[0,-1,0],[-1,5,-1],[0,-1,0]] )\n",
        "prewitt1_kernel = np.array( [[1,1,1],[0,0,0],[-1,-1,-1]] )\n",
        "prewitt2_kernel = np.array( [[-1,0,1],[-1,0,1],[-1,0,1]] )\n",
        "prewitt3_kernel = np.array( [[0,1,1],[-1,0,1],[-1,-1,0]] )\n",
        "prewitt4_kernel = np.array( [[1,1,0],[1,0,-1],[0,-1,-1]] )\n"
      ],
      "execution_count": null,
      "outputs": []
    },
    {
      "cell_type": "markdown",
      "metadata": {
        "id": "s5S2mRntMXSU"
      },
      "source": [
        "🇮 now add them to the image"
      ]
    },
    {
      "cell_type": "code",
      "metadata": {
        "id": "iy0jnDITtIhe"
      },
      "source": [
        "hsobel = cv2.filter2D(img2[:,:,0],-1,hsobel_kernel)\n",
        "vsobel = cv2.filter2D(img2[:,:,0],-1,vsobel_kernel)\n",
        "lap1 = cv2.filter2D(img2[:,:,0],-1,lap1_kernel)\n",
        "lap2 = cv2.filter2D(img2[:,:,0],-1,lap2_kernel)\n",
        "lap3 = cv2.filter2D(img2[:,:,0],-1,lap3_kernel)\n",
        "prewitt1 = cv2.filter2D(img2[:,:,0],-1,prewitt1_kernel)\n",
        "prewitt2 = cv2.filter2D(img2[:,:,0],-1,prewitt2_kernel)\n",
        "prewitt3 = cv2.filter2D(img2[:,:,0],-1,prewitt3_kernel)\n",
        "prewitt4 = cv2.filter2D(img2[:,:,0],-1,prewitt4_kernel)"
      ],
      "execution_count": null,
      "outputs": []
    },
    {
      "cell_type": "markdown",
      "metadata": {
        "id": "j4FrIF4OMnWg"
      },
      "source": [
        "⏪ sobels plots"
      ]
    },
    {
      "cell_type": "code",
      "metadata": {
        "id": "ZxRAxSOHrL74"
      },
      "source": [
        "plt.figure(figsize=(20,20))\n",
        "plt.subplot(1,2,1);plt.imshow(hsobel,cmap='gray');plt.xlabel('hsobel_kernel')\n",
        "plt.subplot(1,2,2);plt.imshow(vsobel,cmap='gray');plt.xlabel('vsobel_kernel')\n",
        "\n"
      ],
      "execution_count": null,
      "outputs": []
    },
    {
      "cell_type": "markdown",
      "metadata": {
        "id": "GniqpKC4AtyH"
      },
      "source": [
        "as we see in horizental sobel we can easily detect the horizental edges.\n",
        "\n",
        "and also we can see in vertical sobel , we can easily detect the vertical edges.\n"
      ]
    },
    {
      "cell_type": "markdown",
      "metadata": {
        "id": "hPc03RQsMv0h"
      },
      "source": [
        "⏪laplasian plots"
      ]
    },
    {
      "cell_type": "code",
      "metadata": {
        "id": "QWx6Og80s6EG"
      },
      "source": [
        "plt.figure(figsize=(30,30))\n",
        "plt.subplot(1,3,1);plt.imshow(lap1,cmap='gray');plt.xlabel('lap1_kernel')\n",
        "plt.subplot(1,3,2);plt.imshow(lap2,cmap='gray');plt.xlabel('lap2_kernel')\n",
        "plt.subplot(1,3,3);plt.imshow(lap3,cmap='gray');plt.xlabel('lap3_kernel')"
      ],
      "execution_count": null,
      "outputs": []
    },
    {
      "cell_type": "markdown",
      "metadata": {
        "id": "nGQKmrKJGULp"
      },
      "source": [
        "as we can see in lap 1 the chenges is obvious . its even better  in lap 2 but lap 3 isn't working really.🛑"
      ]
    },
    {
      "cell_type": "markdown",
      "metadata": {
        "id": "ujm2rHBijwTz"
      },
      "source": [
        "we could use **cv2.Laplacian** too:"
      ]
    },
    {
      "cell_type": "code",
      "metadata": {
        "id": "pF1MCeNijyvB"
      },
      "source": [
        "\n",
        "gray_img = cv2.cvtColor(img2, cv2.COLOR_BGR2GRAY)\n",
        "blur_img = cv2.GaussianBlur(gray_img, (3, 3), 0)\n",
        "laplacian = cv2.Laplacian(blur_img, cv2.CV_64F)\n",
        "\n",
        "plt.figure(figsize=(10,10))\n",
        "plt.title('Shapes')\n",
        "plt.imsave('shapes-lap.png', laplacian, cmap='gray', format='png')\n",
        "plt.imshow(laplacian, cmap='gray')\n",
        "plt.show()"
      ],
      "execution_count": null,
      "outputs": []
    },
    {
      "cell_type": "markdown",
      "metadata": {
        "id": "cgTXdEKPM5w_"
      },
      "source": [
        "it's diifrent from those 3 one in up.and depending on our gols, it may be useful or useless"
      ]
    },
    {
      "cell_type": "markdown",
      "metadata": {
        "id": "4OpDwovJA0GO"
      },
      "source": [
        "⏪ prewitt plots"
      ]
    },
    {
      "cell_type": "code",
      "metadata": {
        "id": "3Q4xAAsWAyeL"
      },
      "source": [
        "plt.figure(figsize=(20,20))\n",
        "plt.subplot(1,2,1);plt.imshow(prewitt1,cmap='gray');plt.xlabel('prewitt1_kernel')\n",
        "plt.subplot(1,2,2);plt.imshow(prewitt2,cmap='gray');plt.xlabel('prewitt2_kernel')"
      ],
      "execution_count": null,
      "outputs": []
    },
    {
      "cell_type": "markdown",
      "metadata": {
        "id": "dMQyT7JqA27N"
      },
      "source": [
        "\n",
        "\n",
        "---\n",
        "before we move too commparing i like to use canny oprator too💹\n",
        "\n"
      ]
    },
    {
      "cell_type": "code",
      "metadata": {
        "id": "cRQ5I8jifdDL"
      },
      "source": [
        "canny = cv2.Canny(img2[:,:,0], 100, 200, 3, L2gradient=True)\n",
        "plt.figure(figsize=(20,20))\n",
        "plt.imshow(canny,cmap='gray');plt.xlabel('canny_kernel')\n"
      ],
      "execution_count": null,
      "outputs": []
    },
    {
      "cell_type": "markdown",
      "metadata": {
        "id": "6VlfzYxfhVKa"
      },
      "source": [
        "it's awsome right?\n",
        "let's Combine H and V sobel:"
      ]
    },
    {
      "cell_type": "markdown",
      "metadata": {
        "id": "sFfiikQiPCO_"
      },
      "source": [
        "# **commparing :**   \n",
        "***first of all prewitt and sobel :***"
      ]
    },
    {
      "cell_type": "code",
      "metadata": {
        "id": "0WUj7sV4PClg"
      },
      "source": [
        "plt.figure(figsize=(20,20))\n",
        "plt.subplot(1,2,1);plt.imshow(prewitt1,cmap='gray');plt.xlabel('prewitt1_kernel')\n",
        "plt.subplot(1,2,2);plt.imshow(hsobel,cmap='gray');plt.xlabel('hsobel_kernel')\n",
        "plt.figure(figsize=(20,20))\n",
        "plt.subplot(1,2,1);plt.imshow(prewitt2,cmap='gray');plt.xlabel('prewitt2_kernel')\n",
        "plt.subplot(1,2,2);plt.imshow(vsobel,cmap='gray');plt.xlabel('vsobel_kernel')"
      ],
      "execution_count": null,
      "outputs": []
    },
    {
      "cell_type": "markdown",
      "metadata": {
        "id": "f-8qm64wBYs1"
      },
      "source": [
        "\n",
        "\n",
        "as we saw it's almost same in prewitt1 and h sobel.also with prewitt2 and vsobel.\n",
        "\n",
        "but as we can figure out from filters and also here , obviously we can detect the diffrenses;\n",
        "\n",
        "in prewitt all Coefficients are 1 but in sobel the Middle numbers are 2 and -2.\n",
        "\n",
        "The  primary  advantages  of  the  classical(sobel and prewitt)  operator  are simplicity. The Roberts cross operator provides a simple approximation  to  the  gradient  magnitude.\n",
        "\n",
        " The  second advantages  of  the  classical  operator  are  detecting  edges and their orientations. In this cross operator, the detection  of  edges  and  their  orientations  is  said  to  be simple due to the approximation of the gradient magnitude.\n",
        "\n",
        " The disadvantages of these cross operator are sensitivity to  the  noise,  in  the  detection  of  the  edges  and  their orientations.  The increase in the  noise to the image will eventually  degrade  the  magnitude  of  the edges. The major  disadvantage  is  the  inaccuracy,  as  the  gradient magnitude  of  the  edges  decreases.  Most  probably  the accuracy also decreases.\n",
        "\n",
        "by the way , Prewitt  edge  detection  technique  is  better  than  the  Sobel  edge  detection  technique.\n",
        "\n",
        " Though Prewitt technique is similar to Sobel but there is difference of spectral response.\n",
        "\n",
        " The relative performance  between  the  edge  detection  technique is carried  out with  a  set  of  images .  \n",
        "\n",
        "In the end, there's always a trade-off between these properties, and which of them is more important depends on the application.\n",
        "\n",
        "---\n",
        "\n"
      ]
    },
    {
      "cell_type": "markdown",
      "metadata": {
        "id": "GLU9eMLoYEt4"
      },
      "source": [
        "***prewitt/sobel and Laplacian  :***"
      ]
    },
    {
      "cell_type": "markdown",
      "metadata": {
        "id": "jTjxLP-0Syro"
      },
      "source": [
        "2-Laplacian and sobel/prewitt💻\n",
        "You can use either one of these for detect edges.\n",
        "Or if you want a better approximation, you can create a 5x5 kernel (it has a 24 at the center and everything else is -1).\n",
        "\n",
        "One serious drawback though , the laplacian edge detector is extremely sensitive to **noise**. Usually, you'll want to reduce noise - maybe using the Gaussian blur or median would help you . although Laplacians are computationally faster to calculate (only one kernel vs two kernels) and sometimes produce exceptional results!\n",
        "\n",
        "also if you want to know the direction of and edge, you'd use a 1st order derivative filter.\n",
        "\n",
        "However, the Canny’s edge detection algorithm performs better than all these operators under almost all scenarios, even under noisy conditions.\n",
        "\n",
        "---\n",
        "\n"
      ]
    },
    {
      "cell_type": "markdown",
      "metadata": {
        "id": "W1-Y-2GnBfR1"
      },
      "source": [
        "now for profiles:\n",
        "there is 2 point for pick the tight range:\n",
        "\n",
        "\n",
        "1.   in the images we can decide for it.\n",
        "\n",
        "2.   we can just chose a vertical (or horizental) , then print all for next    dimension.\n",
        "\n",
        "\n"
      ]
    },
    {
      "cell_type": "code",
      "metadata": {
        "id": "4OV0SAi9BfqY"
      },
      "source": [
        "plt.figure(figsize=(20,5))\n",
        "plt.subplot(3,1,1);plt.plot(hsobel[400,700:1000]);plt.title('hsoble in [400,700:1000]')\n",
        "plt.subplot(3,1,3);plt.plot(vsobel[400,700:1000]);plt.title('vsoble in [400,700:1000]')"
      ],
      "execution_count": null,
      "outputs": []
    },
    {
      "cell_type": "code",
      "metadata": {
        "id": "iXyA7qQVDnTo"
      },
      "source": [
        "plt.figure(figsize=(20,5))\n",
        "plt.subplot(3,1,1);plt.plot(hsobel[0:200,950]);plt.title('hsoble in [0:200,950]')\n",
        "plt.subplot(3,1,3);plt.plot(vsobel[0:200,950]);plt.title('vsoble in [0:200,950]')"
      ],
      "execution_count": null,
      "outputs": []
    },
    {
      "cell_type": "markdown",
      "metadata": {
        "id": "Yb9XaknVI3Zv"
      },
      "source": [
        "in up there we can easily see the diifrentt betwen Hsobel and Vsobel in image.\n",
        "\n",
        "now we chose one period and commpare results."
      ]
    },
    {
      "cell_type": "markdown",
      "metadata": {
        "id": "fPasmNVG02UD"
      },
      "source": [
        "# sobel:"
      ]
    },
    {
      "cell_type": "code",
      "metadata": {
        "id": "sLdk2WP6Fy7q"
      },
      "source": [
        "plt.figure(figsize=(20,5))\n",
        "plt.subplot(3,1,1);plt.plot(hsobel[700:1000,400]);plt.title('hsoble in [700:1000,400]')\n",
        "plt.subplot(3,1,3);plt.plot(vsobel[400,700:1000]);plt.title('vsoble in [400,700:1000]')"
      ],
      "execution_count": null,
      "outputs": []
    },
    {
      "cell_type": "markdown",
      "metadata": {
        "id": "AkFdH10EO8Ti"
      },
      "source": [
        "as we see ,in this period we can say that in vsobel there are More changes than hsobel Especially in 200-300.\n",
        "\n",
        "---\n",
        "\n"
      ]
    },
    {
      "cell_type": "markdown",
      "metadata": {
        "id": "X-op2ZKm08f8"
      },
      "source": [
        "# prewitt"
      ]
    },
    {
      "cell_type": "code",
      "metadata": {
        "id": "58iTIbbwJJzG"
      },
      "source": [
        "plt.figure(figsize=(20,5))\n",
        "plt.subplot(3,1,1);plt.plot(prewitt1[700:1000,400]);plt.title('prewitt1 in [700:1000,400]')\n",
        "plt.subplot(3,1,3);plt.plot(prewitt2[400,700:1000]);plt.title('prewitt2 in [400,700:1000]')"
      ],
      "execution_count": null,
      "outputs": []
    },
    {
      "cell_type": "markdown",
      "metadata": {
        "id": "PXWhCTHUO863"
      },
      "source": [
        "results is almost same as previos one!\n",
        "\n",
        "---\n",
        "\n"
      ]
    },
    {
      "cell_type": "markdown",
      "metadata": {
        "id": "PiwyI1FD1EaS"
      },
      "source": [
        "# lap"
      ]
    },
    {
      "cell_type": "code",
      "metadata": {
        "id": "hA5aKh-5O9LW"
      },
      "source": [
        "plt.figure(figsize=(20,5))\n",
        "plt.subplot(5,1,1);plt.plot(lap1[700:1000,400]);plt.title('lap1 in [700:1000,400]')\n",
        "plt.subplot(5,1,3);plt.plot(lap2[700:1000,400]);plt.title('lap2 in [700:1000,400]')\n",
        "plt.subplot(5,1,5);plt.plot(lap3[700:1000,400]);plt.title('lap3 in [700:1000,400]')"
      ],
      "execution_count": null,
      "outputs": []
    },
    {
      "cell_type": "markdown",
      "metadata": {
        "id": "t7NJd98W0o7S"
      },
      "source": [
        "we choise the same period for all 3 result in 2 and 3 are almost similar(but with some small diffrences .like in 250) but in commparing to fist one , there is less chenges in first one."
      ]
    },
    {
      "cell_type": "markdown",
      "metadata": {
        "id": "ms0vBfFm0n1s"
      },
      "source": [
        "# now a General comparison\n",
        "\n",
        "---\n",
        "\n"
      ]
    },
    {
      "cell_type": "code",
      "metadata": {
        "id": "_EyjWIwT8vMn"
      },
      "source": [
        "plt.figure(figsize=(20,5))\n",
        "plt.subplot(3,1,1);plt.plot(hsobel[700:1000,400]);plt.title('hsoble in [700:1000,400]')\n",
        "plt.subplot(3,1,3);plt.plot(prewitt1[700:1000,400]);plt.title('prewitt1 in [700:1000,400]')\n",
        "plt.figure(figsize=(20,5))\n",
        "plt.subplot(3,1,1);plt.plot(vsobel[400,700:1000]);plt.title('vsoble in [400,700:1000]')\n",
        "plt.subplot(3,1,3);plt.plot(prewitt2[400,700:1000]);plt.title('prewitt2 in [400,700:1000]')"
      ],
      "execution_count": null,
      "outputs": []
    },
    {
      "cell_type": "markdown",
      "metadata": {
        "id": "Y5rLK4TU9LPc"
      },
      "source": [
        "there are almost same with a small part of the changes\n",
        "\n",
        "(hsobel-prewitt)\n",
        "\n",
        "(vsobel-prewitt2)\n",
        "\n",
        "---\n",
        "\n"
      ]
    },
    {
      "cell_type": "markdown",
      "metadata": {
        "id": "Kqhzyl36O9xG"
      },
      "source": [
        "🔵🟡now for blue and yellow filters 🔵🟡"
      ]
    },
    {
      "cell_type": "code",
      "metadata": {
        "id": "zlYZ3xhrO-KA"
      },
      "source": [
        "plt.figure(figsize=(20,20))\n",
        "plt.subplot(1,2,1);plt.imshow(prewitt3,cmap='gray');plt.xlabel('prewitt3_kernel')\n",
        "plt.subplot(1,2,2);plt.imshow(prewitt4,cmap='gray');plt.xlabel('prewitt4_kernel')"
      ],
      "execution_count": null,
      "outputs": []
    },
    {
      "cell_type": "markdown",
      "metadata": {
        "id": "fGkZTu8MQ6TH"
      },
      "source": [
        "for better understanding from those filters, we use a simple pic 🖼"
      ]
    },
    {
      "cell_type": "code",
      "metadata": {
        "id": "vjt6ZnfCPUJq"
      },
      "source": [
        "i1 = np.zeros((100,100),dtype=np.float32)\n",
        "i1[:,50]=1\n",
        "i2 = np.zeros((100,100),dtype=np.float32)\n",
        "i2[:,45:55]=1\n",
        "prewitt3t = cv2.filter2D(i1,-1,prewitt3_kernel)\n",
        "prewitt4t = cv2.filter2D(i1,-1,prewitt4_kernel)\n",
        "prewitt3t2 = cv2.filter2D(i2,-1,prewitt3_kernel)\n",
        "prewitt4t2 = cv2.filter2D(i2,-1,prewitt4_kernel)\n",
        "\n",
        "plt.subplot(1,2,1);plt.imshow(prewitt3t,cmap='gray');plt.xlabel('prewitt3t_kernel')\n",
        "plt.subplot(1,2,2);plt.imshow(prewitt4t,cmap='gray');plt.xlabel('prewitt4t_kernel')\n",
        "plt.figure()\n",
        "plt.subplot(1,2,1);plt.imshow(prewitt3t2,cmap='gray');plt.xlabel('prewitt3t2_kernel')\n",
        "plt.subplot(1,2,2);plt.imshow(prewitt4t2,cmap='gray');plt.xlabel('prewitt4t2_kernel')\n"
      ],
      "execution_count": null,
      "outputs": []
    },
    {
      "cell_type": "code",
      "metadata": {
        "id": "96s-44VOQhAr"
      },
      "source": [
        "print(prewitt3t[50,47:53])\n",
        "print(prewitt4t[50,47:53])"
      ],
      "execution_count": null,
      "outputs": []
    },
    {
      "cell_type": "code",
      "metadata": {
        "id": "k_UWq5a6Q2E3"
      },
      "source": [
        "print(prewitt3t2[50,43:57])\n",
        "print(prewitt4t2[50,43:57])"
      ],
      "execution_count": null,
      "outputs": []
    },
    {
      "cell_type": "markdown",
      "metadata": {
        "id": "igZMIKL6R9Jy"
      },
      "source": [
        "as we see these filter are doing exactly an upside job!we also can see it in the 2 mean pic we can easily detect that Where the first filter bolded the image, the second one did'nt, and also for secound one it's Is establish.\n",
        "---\n",
        "\n"
      ]
    },
    {
      "cell_type": "code",
      "metadata": {
        "id": "VODHJkpiR2Cu"
      },
      "source": [
        "i111 = np.zeros((1000,1000),dtype=np.float32)\n",
        "i=0\n",
        "j=0\n",
        "for i in range (1000):\n",
        "    for j in range (1000):\n",
        "        if i==j:\n",
        "            i111[i,j]=1\n",
        "\n",
        "i1111 = np.zeros((1000,1000),dtype=np.float32)\n",
        "i=0\n",
        "j=0\n",
        "for i in range (1000):\n",
        "    for j in range (1000):\n",
        "        if i==1000-j:\n",
        "            i1111[i,j]=1\n",
        "plt.figure(figsize=(20,20))\n",
        "plt.subplot(1,2,1);plt.imshow(i1111,cmap='gray')\n",
        "plt.subplot(1,2,2);plt.imshow(i111,cmap='gray')\n"
      ],
      "execution_count": null,
      "outputs": []
    },
    {
      "cell_type": "code",
      "metadata": {
        "id": "beiKXoasD8Z8"
      },
      "source": [
        "prewitt3tt = cv2.filter2D(i111,-1,prewitt3_kernel)\n",
        "prewitt4tt = cv2.filter2D(i111,-1,prewitt4_kernel)\n",
        "prewitt3t22 = cv2.filter2D(i1111,-1,prewitt3_kernel)\n",
        "prewitt4t22 = cv2.filter2D(i1111,-1,prewitt4_kernel)\n",
        "plt.figure(figsize=(15,15))\n",
        "plt.subplot(1,2,1);plt.imshow(prewitt3tt,cmap='gray');plt.xlabel('prewitt3tt_kernel')\n",
        "plt.subplot(1,2,2);plt.imshow(prewitt4tt,cmap='gray');plt.xlabel('prewitt4tt_kernel')\n",
        "plt.figure(figsize=(15,15))\n",
        "plt.subplot(1,2,1);plt.imshow(prewitt3t22,cmap='gray');plt.xlabel('prewitt3t22_kernel')\n",
        "plt.subplot(1,2,2);plt.imshow(prewitt4t22,cmap='gray');plt.xlabel('prewitt4t22_kernel')"
      ],
      "execution_count": null,
      "outputs": []
    },
    {
      "cell_type": "code",
      "metadata": {
        "id": "gg6C-eq3EcNl"
      },
      "source": [
        "print(prewitt3tt[4,0:10])\n",
        "print(prewitt4tt[4,990:1000])"
      ],
      "execution_count": null,
      "outputs": []
    },
    {
      "cell_type": "code",
      "metadata": {
        "id": "M7XIqG1aFkBK"
      },
      "source": [
        "print(prewitt3t22[4,0:10])\n",
        "print(prewitt4t22[4,990:1000])"
      ],
      "execution_count": null,
      "outputs": []
    },
    {
      "cell_type": "markdown",
      "metadata": {
        "id": "3_qNwQwTG2FD"
      },
      "source": [
        "# it's really clear indication of the effect of each of the blue and yellow filters.\n",
        "\n",
        "# In principle, the blue filter shows edges with an angle of +45 degrees (it is also understandable from the shape of the filter)\n",
        "#And the yellow filter also shows edges with an angle of -45.\n",
        "it's also understandable from 'Text(0.5, 0, 'prewitt4_kernel')'\n",
        "---\n",
        "\n"
      ]
    }
  ]
}